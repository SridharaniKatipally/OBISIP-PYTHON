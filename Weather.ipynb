{
  "nbformat": 4,
  "nbformat_minor": 0,
  "metadata": {
    "colab": {
      "provenance": [],
      "authorship_tag": "ABX9TyOJDq/mEeSKBLiNcqWJQr0d",
      "include_colab_link": true
    },
    "kernelspec": {
      "name": "python3",
      "display_name": "Python 3"
    },
    "language_info": {
      "name": "python"
    }
  },
  "cells": [
    {
      "cell_type": "markdown",
      "metadata": {
        "id": "view-in-github",
        "colab_type": "text"
      },
      "source": [
        "<a href=\"https://colab.research.google.com/github/SridharaniKatipally/OBISIP-PYTHON/blob/main/Weather.ipynb\" target=\"_parent\"><img src=\"https://colab.research.google.com/assets/colab-badge.svg\" alt=\"Open In Colab\"/></a>"
      ]
    },
    {
      "cell_type": "code",
      "execution_count": 1,
      "metadata": {
        "colab": {
          "base_uri": "https://localhost:8080/"
        },
        "id": "4febckROb4Ly",
        "outputId": "da4ccf45-982f-40b4-b1b6-0803ea55b84b"
      },
      "outputs": [
        {
          "output_type": "stream",
          "name": "stdout",
          "text": [
            "Enter city name or ZIP code: 503111\n",
            "Location: Bidara, IN\n",
            "Temperature: 33.27°C\n",
            "Humidity: 43%\n",
            "Weather: overcast clouds\n"
          ]
        }
      ],
      "source": [
        "import requests\n",
        "\n",
        "def fetch_weather(api_key, location):\n",
        "    url = f'http://api.openweathermap.org/data/2.5/weather?q={location}&appid={api_key}&units=metric'\n",
        "    response = requests.get(url)\n",
        "    if response.status_code == 200:\n",
        "        return response.json()\n",
        "    else:\n",
        "        return None\n",
        "\n",
        "def display_weather(weather_data):\n",
        "    if weather_data:\n",
        "        city = weather_data['name']\n",
        "        country = weather_data['sys']['country']\n",
        "        temperature = weather_data['main']['temp']\n",
        "        humidity = weather_data['main']['humidity']\n",
        "        weather_description = weather_data['weather'][0]['description']\n",
        "        print(f\"Location: {city}, {country}\")\n",
        "        print(f\"Temperature: {temperature}°C\")\n",
        "        print(f\"Humidity: {humidity}%\")\n",
        "        print(f\"Weather: {weather_description}\")\n",
        "    else:\n",
        "        print(\"Error: Unable to fetch weather data.\")\n",
        "\n",
        "def main():\n",
        "    api_key = '00dc4255d19f0fa8b2b5e7ba47bf2766'  # Replace with your OpenWeatherMap API key\n",
        "    location = input(\"Enter city name or ZIP code: \")\n",
        "    weather_data = fetch_weather(api_key, location)\n",
        "    display_weather(weather_data)\n",
        "\n",
        "if __name__ == \"__main__\":\n",
        "    main()"
      ]
    }
  ]
}